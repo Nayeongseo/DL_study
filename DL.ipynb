{
  "nbformat": 4,
  "nbformat_minor": 0,
  "metadata": {
    "colab": {
      "provenance": [],
      "authorship_tag": "ABX9TyPSWs1Z3bsgyXvfAUp8frdl",
      "include_colab_link": true
    },
    "kernelspec": {
      "name": "python3",
      "display_name": "Python 3"
    },
    "language_info": {
      "name": "python"
    }
  },
  "cells": [
    {
      "cell_type": "markdown",
      "metadata": {
        "id": "view-in-github",
        "colab_type": "text"
      },
      "source": [
        "<a href=\"https://colab.research.google.com/github/Nayeongseo/DL_study/blob/main/DL.ipynb\" target=\"_parent\"><img src=\"https://colab.research.google.com/assets/colab-badge.svg\" alt=\"Open In Colab\"/></a>"
      ]
    },
    {
      "cell_type": "markdown",
      "source": [
        "### week2\n",
        "----\n",
        "Machine Learning step"
      ],
      "metadata": {
        "id": "9qKPDfdByf-c"
      }
    },
    {
      "cell_type": "code",
      "source": [
        "# (1) Data Collection\n",
        "\n",
        "from sklearn import datasets\n",
        "import matplotlib.pyplot as plt\n",
        "\n",
        "digit = datasets.load_digits()\n",
        "\n",
        "plt.figure(figsize = (5, 5))\n",
        "plt.imshow(digit.images[0], cmap=plt.cm.gray_r, interpolation='nearest')\n",
        "\n",
        "plt.show()\n",
        "print(digit.data[0])\n",
        "print(\"이 숫자는 \", digit.target[0], '입니다.')"
      ],
      "metadata": {
        "colab": {
          "base_uri": "https://localhost:8080/",
          "height": 536
        },
        "id": "zYR9wbCvymOp",
        "outputId": "f8dc2727-ad24-45b9-c688-d567f2bbbd42"
      },
      "execution_count": 5,
      "outputs": [
        {
          "output_type": "display_data",
          "data": {
            "text/plain": [
              "<Figure size 500x500 with 1 Axes>"
            ],
            "image/png": "[encoded data removed]"
          },
          "metadata": {}
        },
        {
          "output_type": "stream",
          "name": "stdout",
          "text": [
            "[ 0.  0.  5. 13.  9.  1.  0.  0.  0.  0. 13. 15. 10. 15.  5.  0.  0.  3.\n",
            " 15.  2.  0. 11.  8.  0.  0.  4. 12.  0.  0.  8.  8.  0.  0.  5.  8.  0.\n",
            "  0.  9.  8.  0.  0.  4. 11.  0.  1. 12.  7.  0.  0.  2. 14.  5. 10. 12.\n",
            "  0.  0.  0.  0.  6. 13. 10.  0.  0.  0.]\n",
            "이 숫자는  0 입니다.\n"
          ]
        }
      ]
    },
    {
      "cell_type": "code",
      "source": [
        "from sklearn import datasets\n",
        "from sklearn import svm\n",
        "\n",
        "digit = datasets.load_digits()\n",
        "\n",
        "# svm의 분류기 모델 SVC를 학습\n",
        "s = svm.SVC(gamma=0.1, C=10) # hyperparameter은 사전 학습됨\n",
        "s.fit(digit.data, digit.target)\n",
        "\n",
        "# 훈련 집합의 앞에 있는 샘플 3개를 새로운 샘플로 간주하고 인식해봄\n",
        "new_d = [digit.data[0], digit.data[1], digit.data[2]]\n",
        "res = s.predict(new_d)\n",
        "print(\"예측값은\", res)\n",
        "print(\"참값은\", digit.target[0], digit.target[1], digit.target[2])\n",
        "\n",
        "# 훈련 집합을 테스트 집합으로 간주하여 인식해보고 정확률을 측정\n",
        "res = s.predict(digit.data)\n",
        "correct = [i for i in range(len(res)) if res[i]==digit.target[i]]\n",
        "accuracy = len(correct)/len(res)\n",
        "print(\"화소 특징을 사용했을 때 정확률=\", accuracy*100, \"%\")"
      ],
      "metadata": {
        "colab": {
          "base_uri": "https://localhost:8080/"
        },
        "id": "fAbirwZBzZ8c",
        "outputId": "d2ef70fa-6e3a-41f3-bd63-6e7790d0aa61"
      },
      "execution_count": 7,
      "outputs": [
        {
          "output_type": "stream",
          "name": "stdout",
          "text": [
            "예측값은 [0 1 2]\n",
            "참값은 0 1 2\n",
            "화소 특징을 사용했을 때 정확률= 100.0 %\n"
          ]
        }
      ]
    }
  ]
}